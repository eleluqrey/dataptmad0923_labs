{
 "cells": [
  {
   "cell_type": "markdown",
   "metadata": {},
   "source": [
    "## Challenge 1: Tuples\n",
    "\n",
    "#### Do you know you can create tuples with only one element?\n",
    "\n",
    "**In the cell below, define a variable `tup` with a single element `\"I\"`.**\n",
    "\n",
    "*Hint: you need to add a comma (`,`) after the single element.*"
   ]
  },
  {
   "cell_type": "code",
   "execution_count": 5,
   "metadata": {},
   "outputs": [
    {
     "name": "stdout",
     "output_type": "stream",
     "text": [
      "I\n",
      "<class 'str'>\n"
     ]
    }
   ],
   "source": [
    "# Your code here\n",
    "tup=('I',)\n",
    "print(chocolates)\n",
    "print(type(tup))"
   ]
  },
  {
   "cell_type": "markdown",
   "metadata": {},
   "source": [
    "#### Print the type of `tup`. \n",
    "\n",
    "Make sure its type is correct (i.e. *tuple* instead of *str*)."
   ]
  },
  {
   "cell_type": "code",
   "execution_count": 7,
   "metadata": {},
   "outputs": [
    {
     "name": "stdout",
     "output_type": "stream",
     "text": [
      "<class 'tuple'>\n"
     ]
    }
   ],
   "source": [
    "# Your code here\n",
    "tup=('I',)\n",
    "print(type(tup))"
   ]
  },
  {
   "cell_type": "markdown",
   "metadata": {},
   "source": [
    "#### Now try to append the following elements to `tup`. \n",
    "\n",
    "Are you able to do it? Explain.\n",
    "\n",
    "```\n",
    "\"r\", \"o\", \"n\", \"h\", \"a\", \"c\", \"k',\n",
    "```"
   ]
  },
  {
   "cell_type": "code",
   "execution_count": 11,
   "metadata": {},
   "outputs": [
    {
     "name": "stdout",
     "output_type": "stream",
     "text": [
      "There is no code to do it\n",
      "Tuples are immutables, that means that the values inside of a tuple cannot be overwritten (or mutated) once the tuple is defined.\n"
     ]
    }
   ],
   "source": [
    "# Your code here\n",
    "print('There is no code to do it.')\n",
    "# Your explanation here\n",
    "print('Tuples are immutables, that means that the values inside of a tuple cannot be overwritten (or mutated) once the tuple is defined.')"
   ]
  },
  {
   "cell_type": "markdown",
   "metadata": {},
   "source": [
    "#### How about re-assign a new value to an existing tuple?\n",
    "\n",
    "Re-assign the following elements to `tup`. Are you able to do it? Explain.\n",
    "\n",
    "```\n",
    "\"I\", \"r\", \"o\", \"n\", \"h\", \"a\", \"c\", \"k\"\n",
    "```"
   ]
  },
  {
   "cell_type": "code",
   "execution_count": 21,
   "metadata": {},
   "outputs": [
    {
     "name": "stdout",
     "output_type": "stream",
     "text": [
      "('I', 'r', 'o', 'n', 'h', 'a', 'c', 'k')\n",
      "<class 'tuple'>\n",
      "For the same reason as before, Tuples are immutables and that includes that it can not be re-assigned.\n"
     ]
    }
   ],
   "source": [
    "# Your code here\n",
    "tup=('I', 'r', 'o', 'n', 'h', 'a', 'c', 'k')\n",
    "print(tup)\n",
    "print(type(tup))\n",
    "# Your explanation here\n",
    "print('Now the Python is overwrittening the value of the original tupple, Python takes the last definition of the tuple.')"
   ]
  },
  {
   "cell_type": "markdown",
   "metadata": {},
   "source": [
    "#### Split `tup` into `tup1` and `tup2` with 4 elements in each. \n",
    "\n",
    "`tup1` should be `(\"I\", \"r\", \"o\", \"n\")` and `tup2` should be `(\"h\", \"a\", \"c\", \"k\")`.\n",
    "\n",
    "*Hint: use positive index numbers for `tup1` assignment and use negative index numbers for `tup2` assignment. Positive index numbers count from the beginning whereas negative index numbers count from the end of the sequence.*\n",
    "\n",
    "Also print `tup1` and `tup2`."
   ]
  },
  {
   "cell_type": "code",
   "execution_count": 13,
   "metadata": {},
   "outputs": [
    {
     "name": "stdout",
     "output_type": "stream",
     "text": [
      "('I', 'r', 'o', 'n')\n",
      "<class 'tuple'>\n",
      "('h', 'a', 'c', 'k')\n",
      "<class 'tuple'>\n"
     ]
    }
   ],
   "source": [
    "# Your code here\n",
    "tup1=('I', 'r', 'o', 'n')\n",
    "tup2=('h', 'a', 'c', 'k')\n",
    "print(tup1)\n",
    "print(type(tup1))\n",
    "print(tup2)\n",
    "print(type(tup2))\n"
   ]
  },
  {
   "cell_type": "markdown",
   "metadata": {},
   "source": [
    "#### Add `tup1` and `tup2` into `tup3` using the `+` operator.\n",
    "\n",
    "Then print `tup3` and check if `tup3` equals to `tup`."
   ]
  },
  {
   "cell_type": "code",
   "execution_count": 29,
   "metadata": {},
   "outputs": [
    {
     "name": "stdout",
     "output_type": "stream",
     "text": [
      "('I', 'r', 'o', 'n', 'h', 'a', 'c', 'k')\n",
      "<class 'tuple'>\n",
      "When we compare tup3 to tup we check it is True .Both are the same.\n"
     ]
    }
   ],
   "source": [
    "# Your code here\n",
    "tup3=(tup1+tup2)\n",
    "print(tup3)\n",
    "print(type(tup3))\n",
    "print('When we compare tup3 to tup we check it is',tup3==tup,'.Both are the same.')  "
   ]
  },
  {
   "cell_type": "markdown",
   "metadata": {},
   "source": [
    "#### Count the number of elements in `tup1` and `tup2`. Then add the two counts together and check if the sum is the same as the number of elements in `tup3`."
   ]
  },
  {
   "cell_type": "code",
   "execution_count": 36,
   "metadata": {},
   "outputs": [
    {
     "name": "stdout",
     "output_type": "stream",
     "text": [
      "4\n",
      "4\n",
      "8\n",
      "When we compare len_tup3 to len_tup1_plus_tup2 we check it is True .Both have the same numbers of elements.\n"
     ]
    }
   ],
   "source": [
    "# Your code here\n",
    "len_tup1=len(tup1)\n",
    "print(len_tup1)\n",
    "\n",
    "len_tup2=len(tup2)\n",
    "print(len_tup2)\n",
    "\n",
    "len_tup1_plus_tup2=len(tup1)+len(tup2)\n",
    "print(len_tup1_plus_tup2)\n",
    "\n",
    "len_tup3=len(tup3)\n",
    "print('When we compare len_tup3 to len_tup1_plus_tup2 we check it is',len_tup1_plus_tup2==len_tup3,'.Both have the same numbers of elements.')\n"
   ]
  },
  {
   "cell_type": "markdown",
   "metadata": {},
   "source": [
    "#### What is the index number of `\"h\"` in `tup3`?"
   ]
  },
  {
   "cell_type": "code",
   "execution_count": 41,
   "metadata": {},
   "outputs": [
    {
     "name": "stdout",
     "output_type": "stream",
     "text": [
      "The index number of \"h\" in tup3 is 4 .\n"
     ]
    }
   ],
   "source": [
    "# Your code here\n",
    "print('The index number of \"h\" in tup3 is',tup3.index('h'),'.')"
   ]
  },
  {
   "cell_type": "markdown",
   "metadata": {},
   "source": [
    "#### Now, use a FOR loop to check whether each letter in the following list is present in `tup3`:\n",
    "\n",
    "```\n",
    "letters = [\"a\", \"b\", \"c\", \"d\", \"e\"]\n",
    "```\n",
    "\n",
    "For each letter you check, print `True` if it is present in `tup3` otherwise print `False`.\n",
    "\n",
    "*Hint: you only need to loop `letters`. You don't need to loop `tup3` because there is a Python operator `in` you can use. See [reference](https://stackoverflow.com/questions/17920147/how-to-check-if-a-tuple-contains-an-element-in-python).*"
   ]
  },
  {
   "cell_type": "code",
   "execution_count": 90,
   "metadata": {},
   "outputs": [
    {
     "name": "stdout",
     "output_type": "stream",
     "text": [
      "True\n",
      "False\n"
     ]
    }
   ],
   "source": [
    "# Your code here\n",
    "letters = [\"a\", \"b\", \"c\", \"d\", \"e\"]\n",
    "\n",
    "def letters_in_tup3(x):     #Defino función que sea letras en tup3\n",
    "    if x in tup3:           #Condicional para ver si la letra está en tup3\n",
    "        print(True)         #Si está imprime Verdadero\n",
    "    else:  \n",
    "        print(False)        #Si no está imprime Falso\n",
    "        \n",
    "letters_in_tup3('a')\n",
    "letters_in_tup3('d')"
   ]
  },
  {
   "cell_type": "markdown",
   "metadata": {},
   "source": [
    "#### How many times does each letter in `letters` appear in `tup3`?\n",
    "\n",
    "Print out the number of occurrence of each letter."
   ]
  },
  {
   "cell_type": "code",
   "execution_count": 124,
   "metadata": {},
   "outputs": [
    {
     "name": "stdout",
     "output_type": "stream",
     "text": [
      "La letra a aparece 1 veces\n",
      "La letra b aparece 0 veces\n",
      "La letra c aparece 1 veces\n",
      "La letra d aparece 0 veces\n",
      "La letra e aparece 0 veces\n"
     ]
    }
   ],
   "source": [
    "# Your code here\n",
    "tup3=('I', 'r', 'o', 'n', 'h', 'a', 'c', 'k')\n",
    "letters = [\"a\", \"b\", \"c\", \"d\", \"e\"]\n",
    "            \n",
    "def counter(tup3,letters):\n",
    "    for i in letters:\n",
    "        total_count= tup3.count(i)\n",
    "        print(\"La letra\",i,\"aparece\",total_count,\"veces\")\n",
    "\n",
    "counter(tup3,letters)"
   ]
  },
  {
   "cell_type": "code",
   "execution_count": null,
   "metadata": {},
   "outputs": [],
   "source": []
  }
 ],
 "metadata": {
  "kernelspec": {
   "display_name": "Python 3 (ipykernel)",
   "language": "python",
   "name": "python3"
  },
  "language_info": {
   "codemirror_mode": {
    "name": "ipython",
    "version": 3
   },
   "file_extension": ".py",
   "mimetype": "text/x-python",
   "name": "python",
   "nbconvert_exporter": "python",
   "pygments_lexer": "ipython3",
   "version": "3.10.13"
  }
 },
 "nbformat": 4,
 "nbformat_minor": 2
}
